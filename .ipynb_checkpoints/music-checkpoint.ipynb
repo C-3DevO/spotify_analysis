{
 "cells": [
  {
   "cell_type": "markdown",
   "metadata": {},
   "source": [
    "# SPOTIFY MUSIC ANALYSIS"
   ]
  },
  {
   "cell_type": "markdown",
   "metadata": {},
   "source": [
    "## OVERVIEW\n",
    "\n",
    " To add later"
   ]
  },
  {
   "cell_type": "markdown",
   "metadata": {},
   "source": [
    "## GOALS\n",
    "`1. Identify top music genres and artists.`\n",
    "\n",
    "`2. Analyze the association between music attributes and popularity.`\n",
    "\n",
    "`3. To add along`"
   ]
  },
  {
   "cell_type": "markdown",
   "metadata": {},
   "source": [
    "## DATA"
   ]
  },
  {
   "cell_type": "markdown",
   "metadata": {},
   "source": [
    "### Data Source"
   ]
  },
  {
   "cell_type": "markdown",
   "metadata": {},
   "source": [
    "The dataset used in this analysis was obtained from [Kaggle](https://www.kaggle.com) and contains a collection of Spotify tracks along with their metadata and audio features. It includes attributes such as track name, artist, genre, popularity score, and various musical characteristics like danceability, energy, valence, and tempo. This data provides a useful foundation for exploring listening trends, audio feature distributions, and artist or genre-based insights."
   ]
  },
  {
   "cell_type": "markdown",
   "metadata": {},
   "source": [
    "### Data Description"
   ]
  },
  {
   "cell_type": "markdown",
   "metadata": {},
   "source": [
    "##### Importing the data"
   ]
  },
  {
   "cell_type": "code",
   "execution_count": 1,
   "metadata": {},
   "outputs": [],
   "source": [
    "#importing necessary packages\n",
    "import pandas as pd\n",
    "import numpy as np\n",
    "import seaborn as sns\n",
    "import matplotlib.pyplot as plt\n",
    "%matplotlib inline"
   ]
  },
  {
   "cell_type": "code",
   "execution_count": 2,
   "metadata": {},
   "outputs": [
    {
     "data": {
      "text/html": [
       "<div>\n",
       "<style scoped>\n",
       "    .dataframe tbody tr th:only-of-type {\n",
       "        vertical-align: middle;\n",
       "    }\n",
       "\n",
       "    .dataframe tbody tr th {\n",
       "        vertical-align: top;\n",
       "    }\n",
       "\n",
       "    .dataframe thead th {\n",
       "        text-align: right;\n",
       "    }\n",
       "</style>\n",
       "<table border=\"1\" class=\"dataframe\">\n",
       "  <thead>\n",
       "    <tr style=\"text-align: right;\">\n",
       "      <th></th>\n",
       "      <th>track_id</th>\n",
       "      <th>artists</th>\n",
       "      <th>album_name</th>\n",
       "      <th>track_name</th>\n",
       "      <th>popularity</th>\n",
       "      <th>duration_ms</th>\n",
       "      <th>explicit</th>\n",
       "      <th>danceability</th>\n",
       "      <th>energy</th>\n",
       "      <th>key</th>\n",
       "      <th>loudness</th>\n",
       "      <th>mode</th>\n",
       "      <th>speechiness</th>\n",
       "      <th>acousticness</th>\n",
       "      <th>instrumentalness</th>\n",
       "      <th>liveness</th>\n",
       "      <th>valence</th>\n",
       "      <th>tempo</th>\n",
       "      <th>time_signature</th>\n",
       "      <th>track_genre</th>\n",
       "    </tr>\n",
       "  </thead>\n",
       "  <tbody>\n",
       "    <tr>\n",
       "      <th>0</th>\n",
       "      <td>5SuOikwiRyPMVoIQDJUgSV</td>\n",
       "      <td>Gen Hoshino</td>\n",
       "      <td>Comedy</td>\n",
       "      <td>Comedy</td>\n",
       "      <td>73</td>\n",
       "      <td>230666</td>\n",
       "      <td>False</td>\n",
       "      <td>0.676</td>\n",
       "      <td>0.4610</td>\n",
       "      <td>1</td>\n",
       "      <td>-6.746</td>\n",
       "      <td>0</td>\n",
       "      <td>0.1430</td>\n",
       "      <td>0.0322</td>\n",
       "      <td>0.000001</td>\n",
       "      <td>0.3580</td>\n",
       "      <td>0.715</td>\n",
       "      <td>87.917</td>\n",
       "      <td>4</td>\n",
       "      <td>acoustic</td>\n",
       "    </tr>\n",
       "    <tr>\n",
       "      <th>1</th>\n",
       "      <td>4qPNDBW1i3p13qLCt0Ki3A</td>\n",
       "      <td>Ben Woodward</td>\n",
       "      <td>Ghost (Acoustic)</td>\n",
       "      <td>Ghost - Acoustic</td>\n",
       "      <td>55</td>\n",
       "      <td>149610</td>\n",
       "      <td>False</td>\n",
       "      <td>0.420</td>\n",
       "      <td>0.1660</td>\n",
       "      <td>1</td>\n",
       "      <td>-17.235</td>\n",
       "      <td>1</td>\n",
       "      <td>0.0763</td>\n",
       "      <td>0.9240</td>\n",
       "      <td>0.000006</td>\n",
       "      <td>0.1010</td>\n",
       "      <td>0.267</td>\n",
       "      <td>77.489</td>\n",
       "      <td>4</td>\n",
       "      <td>acoustic</td>\n",
       "    </tr>\n",
       "    <tr>\n",
       "      <th>2</th>\n",
       "      <td>1iJBSr7s7jYXzM8EGcbK5b</td>\n",
       "      <td>Ingrid Michaelson;ZAYN</td>\n",
       "      <td>To Begin Again</td>\n",
       "      <td>To Begin Again</td>\n",
       "      <td>57</td>\n",
       "      <td>210826</td>\n",
       "      <td>False</td>\n",
       "      <td>0.438</td>\n",
       "      <td>0.3590</td>\n",
       "      <td>0</td>\n",
       "      <td>-9.734</td>\n",
       "      <td>1</td>\n",
       "      <td>0.0557</td>\n",
       "      <td>0.2100</td>\n",
       "      <td>0.000000</td>\n",
       "      <td>0.1170</td>\n",
       "      <td>0.120</td>\n",
       "      <td>76.332</td>\n",
       "      <td>4</td>\n",
       "      <td>acoustic</td>\n",
       "    </tr>\n",
       "    <tr>\n",
       "      <th>3</th>\n",
       "      <td>6lfxq3CG4xtTiEg7opyCyx</td>\n",
       "      <td>Kina Grannis</td>\n",
       "      <td>Crazy Rich Asians (Original Motion Picture Sou...</td>\n",
       "      <td>Can't Help Falling In Love</td>\n",
       "      <td>71</td>\n",
       "      <td>201933</td>\n",
       "      <td>False</td>\n",
       "      <td>0.266</td>\n",
       "      <td>0.0596</td>\n",
       "      <td>0</td>\n",
       "      <td>-18.515</td>\n",
       "      <td>1</td>\n",
       "      <td>0.0363</td>\n",
       "      <td>0.9050</td>\n",
       "      <td>0.000071</td>\n",
       "      <td>0.1320</td>\n",
       "      <td>0.143</td>\n",
       "      <td>181.740</td>\n",
       "      <td>3</td>\n",
       "      <td>acoustic</td>\n",
       "    </tr>\n",
       "    <tr>\n",
       "      <th>4</th>\n",
       "      <td>5vjLSffimiIP26QG5WcN2K</td>\n",
       "      <td>Chord Overstreet</td>\n",
       "      <td>Hold On</td>\n",
       "      <td>Hold On</td>\n",
       "      <td>82</td>\n",
       "      <td>198853</td>\n",
       "      <td>False</td>\n",
       "      <td>0.618</td>\n",
       "      <td>0.4430</td>\n",
       "      <td>2</td>\n",
       "      <td>-9.681</td>\n",
       "      <td>1</td>\n",
       "      <td>0.0526</td>\n",
       "      <td>0.4690</td>\n",
       "      <td>0.000000</td>\n",
       "      <td>0.0829</td>\n",
       "      <td>0.167</td>\n",
       "      <td>119.949</td>\n",
       "      <td>4</td>\n",
       "      <td>acoustic</td>\n",
       "    </tr>\n",
       "  </tbody>\n",
       "</table>\n",
       "</div>"
      ],
      "text/plain": [
       "                 track_id                 artists  \\\n",
       "0  5SuOikwiRyPMVoIQDJUgSV             Gen Hoshino   \n",
       "1  4qPNDBW1i3p13qLCt0Ki3A            Ben Woodward   \n",
       "2  1iJBSr7s7jYXzM8EGcbK5b  Ingrid Michaelson;ZAYN   \n",
       "3  6lfxq3CG4xtTiEg7opyCyx            Kina Grannis   \n",
       "4  5vjLSffimiIP26QG5WcN2K        Chord Overstreet   \n",
       "\n",
       "                                          album_name  \\\n",
       "0                                             Comedy   \n",
       "1                                   Ghost (Acoustic)   \n",
       "2                                     To Begin Again   \n",
       "3  Crazy Rich Asians (Original Motion Picture Sou...   \n",
       "4                                            Hold On   \n",
       "\n",
       "                   track_name  popularity  duration_ms  explicit  \\\n",
       "0                      Comedy          73       230666     False   \n",
       "1            Ghost - Acoustic          55       149610     False   \n",
       "2              To Begin Again          57       210826     False   \n",
       "3  Can't Help Falling In Love          71       201933     False   \n",
       "4                     Hold On          82       198853     False   \n",
       "\n",
       "   danceability  energy  key  loudness  mode  speechiness  acousticness  \\\n",
       "0         0.676  0.4610    1    -6.746     0       0.1430        0.0322   \n",
       "1         0.420  0.1660    1   -17.235     1       0.0763        0.9240   \n",
       "2         0.438  0.3590    0    -9.734     1       0.0557        0.2100   \n",
       "3         0.266  0.0596    0   -18.515     1       0.0363        0.9050   \n",
       "4         0.618  0.4430    2    -9.681     1       0.0526        0.4690   \n",
       "\n",
       "   instrumentalness  liveness  valence    tempo  time_signature track_genre  \n",
       "0          0.000001    0.3580    0.715   87.917               4    acoustic  \n",
       "1          0.000006    0.1010    0.267   77.489               4    acoustic  \n",
       "2          0.000000    0.1170    0.120   76.332               4    acoustic  \n",
       "3          0.000071    0.1320    0.143  181.740               3    acoustic  \n",
       "4          0.000000    0.0829    0.167  119.949               4    acoustic  "
      ]
     },
     "execution_count": 2,
     "metadata": {},
     "output_type": "execute_result"
    }
   ],
   "source": [
    "#importing the data\n",
    "df = pd.read_csv('./data/spotify.csv')\n",
    "df.head()"
   ]
  },
  {
   "cell_type": "markdown",
   "metadata": {},
   "source": [
    "##### Basic Structure"
   ]
  },
  {
   "cell_type": "code",
   "execution_count": 3,
   "metadata": {},
   "outputs": [
    {
     "data": {
      "text/plain": [
       "(114000, 20)"
      ]
     },
     "execution_count": 3,
     "metadata": {},
     "output_type": "execute_result"
    }
   ],
   "source": [
    "df.shape"
   ]
  },
  {
   "cell_type": "code",
   "execution_count": 4,
   "metadata": {},
   "outputs": [
    {
     "data": {
      "text/plain": [
       "Index(['track_id', 'artists', 'album_name', 'track_name', 'popularity',\n",
       "       'duration_ms', 'explicit', 'danceability', 'energy', 'key', 'loudness',\n",
       "       'mode', 'speechiness', 'acousticness', 'instrumentalness', 'liveness',\n",
       "       'valence', 'tempo', 'time_signature', 'track_genre'],\n",
       "      dtype='object')"
      ]
     },
     "execution_count": 4,
     "metadata": {},
     "output_type": "execute_result"
    }
   ],
   "source": [
    "df.columns"
   ]
  },
  {
   "cell_type": "markdown",
   "metadata": {},
   "source": [
    "##### Column types and null values"
   ]
  },
  {
   "cell_type": "code",
   "execution_count": 5,
   "metadata": {},
   "outputs": [
    {
     "name": "stdout",
     "output_type": "stream",
     "text": [
      "<class 'pandas.core.frame.DataFrame'>\n",
      "RangeIndex: 114000 entries, 0 to 113999\n",
      "Data columns (total 20 columns):\n",
      " #   Column            Non-Null Count   Dtype  \n",
      "---  ------            --------------   -----  \n",
      " 0   track_id          114000 non-null  object \n",
      " 1   artists           113999 non-null  object \n",
      " 2   album_name        113999 non-null  object \n",
      " 3   track_name        113999 non-null  object \n",
      " 4   popularity        114000 non-null  int64  \n",
      " 5   duration_ms       114000 non-null  int64  \n",
      " 6   explicit          114000 non-null  bool   \n",
      " 7   danceability      114000 non-null  float64\n",
      " 8   energy            114000 non-null  float64\n",
      " 9   key               114000 non-null  int64  \n",
      " 10  loudness          114000 non-null  float64\n",
      " 11  mode              114000 non-null  int64  \n",
      " 12  speechiness       114000 non-null  float64\n",
      " 13  acousticness      114000 non-null  float64\n",
      " 14  instrumentalness  114000 non-null  float64\n",
      " 15  liveness          114000 non-null  float64\n",
      " 16  valence           114000 non-null  float64\n",
      " 17  tempo             114000 non-null  float64\n",
      " 18  time_signature    114000 non-null  int64  \n",
      " 19  track_genre       114000 non-null  object \n",
      "dtypes: bool(1), float64(9), int64(5), object(5)\n",
      "memory usage: 16.6+ MB\n"
     ]
    }
   ],
   "source": [
    "df.info()"
   ]
  },
  {
   "cell_type": "markdown",
   "metadata": {},
   "source": [
    "##### Summary statistics numerical"
   ]
  },
  {
   "cell_type": "code",
   "execution_count": 6,
   "metadata": {},
   "outputs": [
    {
     "data": {
      "text/html": [
       "<div>\n",
       "<style scoped>\n",
       "    .dataframe tbody tr th:only-of-type {\n",
       "        vertical-align: middle;\n",
       "    }\n",
       "\n",
       "    .dataframe tbody tr th {\n",
       "        vertical-align: top;\n",
       "    }\n",
       "\n",
       "    .dataframe thead th {\n",
       "        text-align: right;\n",
       "    }\n",
       "</style>\n",
       "<table border=\"1\" class=\"dataframe\">\n",
       "  <thead>\n",
       "    <tr style=\"text-align: right;\">\n",
       "      <th></th>\n",
       "      <th>count</th>\n",
       "      <th>mean</th>\n",
       "      <th>std</th>\n",
       "      <th>min</th>\n",
       "      <th>25%</th>\n",
       "      <th>50%</th>\n",
       "      <th>75%</th>\n",
       "      <th>max</th>\n",
       "    </tr>\n",
       "  </thead>\n",
       "  <tbody>\n",
       "    <tr>\n",
       "      <th>popularity</th>\n",
       "      <td>114000.0</td>\n",
       "      <td>33.238535</td>\n",
       "      <td>22.305078</td>\n",
       "      <td>0.000</td>\n",
       "      <td>17.00000</td>\n",
       "      <td>35.000000</td>\n",
       "      <td>50.0000</td>\n",
       "      <td>100.000</td>\n",
       "    </tr>\n",
       "    <tr>\n",
       "      <th>duration_ms</th>\n",
       "      <td>114000.0</td>\n",
       "      <td>228029.153114</td>\n",
       "      <td>107297.712645</td>\n",
       "      <td>0.000</td>\n",
       "      <td>174066.00000</td>\n",
       "      <td>212906.000000</td>\n",
       "      <td>261506.0000</td>\n",
       "      <td>5237295.000</td>\n",
       "    </tr>\n",
       "    <tr>\n",
       "      <th>danceability</th>\n",
       "      <td>114000.0</td>\n",
       "      <td>0.566800</td>\n",
       "      <td>0.173542</td>\n",
       "      <td>0.000</td>\n",
       "      <td>0.45600</td>\n",
       "      <td>0.580000</td>\n",
       "      <td>0.6950</td>\n",
       "      <td>0.985</td>\n",
       "    </tr>\n",
       "    <tr>\n",
       "      <th>energy</th>\n",
       "      <td>114000.0</td>\n",
       "      <td>0.641383</td>\n",
       "      <td>0.251529</td>\n",
       "      <td>0.000</td>\n",
       "      <td>0.47200</td>\n",
       "      <td>0.685000</td>\n",
       "      <td>0.8540</td>\n",
       "      <td>1.000</td>\n",
       "    </tr>\n",
       "    <tr>\n",
       "      <th>key</th>\n",
       "      <td>114000.0</td>\n",
       "      <td>5.309140</td>\n",
       "      <td>3.559987</td>\n",
       "      <td>0.000</td>\n",
       "      <td>2.00000</td>\n",
       "      <td>5.000000</td>\n",
       "      <td>8.0000</td>\n",
       "      <td>11.000</td>\n",
       "    </tr>\n",
       "    <tr>\n",
       "      <th>loudness</th>\n",
       "      <td>114000.0</td>\n",
       "      <td>-8.258960</td>\n",
       "      <td>5.029337</td>\n",
       "      <td>-49.531</td>\n",
       "      <td>-10.01300</td>\n",
       "      <td>-7.004000</td>\n",
       "      <td>-5.0030</td>\n",
       "      <td>4.532</td>\n",
       "    </tr>\n",
       "    <tr>\n",
       "      <th>mode</th>\n",
       "      <td>114000.0</td>\n",
       "      <td>0.637553</td>\n",
       "      <td>0.480709</td>\n",
       "      <td>0.000</td>\n",
       "      <td>0.00000</td>\n",
       "      <td>1.000000</td>\n",
       "      <td>1.0000</td>\n",
       "      <td>1.000</td>\n",
       "    </tr>\n",
       "    <tr>\n",
       "      <th>speechiness</th>\n",
       "      <td>114000.0</td>\n",
       "      <td>0.084652</td>\n",
       "      <td>0.105732</td>\n",
       "      <td>0.000</td>\n",
       "      <td>0.03590</td>\n",
       "      <td>0.048900</td>\n",
       "      <td>0.0845</td>\n",
       "      <td>0.965</td>\n",
       "    </tr>\n",
       "    <tr>\n",
       "      <th>acousticness</th>\n",
       "      <td>114000.0</td>\n",
       "      <td>0.314910</td>\n",
       "      <td>0.332523</td>\n",
       "      <td>0.000</td>\n",
       "      <td>0.01690</td>\n",
       "      <td>0.169000</td>\n",
       "      <td>0.5980</td>\n",
       "      <td>0.996</td>\n",
       "    </tr>\n",
       "    <tr>\n",
       "      <th>instrumentalness</th>\n",
       "      <td>114000.0</td>\n",
       "      <td>0.156050</td>\n",
       "      <td>0.309555</td>\n",
       "      <td>0.000</td>\n",
       "      <td>0.00000</td>\n",
       "      <td>0.000042</td>\n",
       "      <td>0.0490</td>\n",
       "      <td>1.000</td>\n",
       "    </tr>\n",
       "    <tr>\n",
       "      <th>liveness</th>\n",
       "      <td>114000.0</td>\n",
       "      <td>0.213553</td>\n",
       "      <td>0.190378</td>\n",
       "      <td>0.000</td>\n",
       "      <td>0.09800</td>\n",
       "      <td>0.132000</td>\n",
       "      <td>0.2730</td>\n",
       "      <td>1.000</td>\n",
       "    </tr>\n",
       "    <tr>\n",
       "      <th>valence</th>\n",
       "      <td>114000.0</td>\n",
       "      <td>0.474068</td>\n",
       "      <td>0.259261</td>\n",
       "      <td>0.000</td>\n",
       "      <td>0.26000</td>\n",
       "      <td>0.464000</td>\n",
       "      <td>0.6830</td>\n",
       "      <td>0.995</td>\n",
       "    </tr>\n",
       "    <tr>\n",
       "      <th>tempo</th>\n",
       "      <td>114000.0</td>\n",
       "      <td>122.147837</td>\n",
       "      <td>29.978197</td>\n",
       "      <td>0.000</td>\n",
       "      <td>99.21875</td>\n",
       "      <td>122.017000</td>\n",
       "      <td>140.0710</td>\n",
       "      <td>243.372</td>\n",
       "    </tr>\n",
       "    <tr>\n",
       "      <th>time_signature</th>\n",
       "      <td>114000.0</td>\n",
       "      <td>3.904035</td>\n",
       "      <td>0.432621</td>\n",
       "      <td>0.000</td>\n",
       "      <td>4.00000</td>\n",
       "      <td>4.000000</td>\n",
       "      <td>4.0000</td>\n",
       "      <td>5.000</td>\n",
       "    </tr>\n",
       "  </tbody>\n",
       "</table>\n",
       "</div>"
      ],
      "text/plain": [
       "                     count           mean            std     min  \\\n",
       "popularity        114000.0      33.238535      22.305078   0.000   \n",
       "duration_ms       114000.0  228029.153114  107297.712645   0.000   \n",
       "danceability      114000.0       0.566800       0.173542   0.000   \n",
       "energy            114000.0       0.641383       0.251529   0.000   \n",
       "key               114000.0       5.309140       3.559987   0.000   \n",
       "loudness          114000.0      -8.258960       5.029337 -49.531   \n",
       "mode              114000.0       0.637553       0.480709   0.000   \n",
       "speechiness       114000.0       0.084652       0.105732   0.000   \n",
       "acousticness      114000.0       0.314910       0.332523   0.000   \n",
       "instrumentalness  114000.0       0.156050       0.309555   0.000   \n",
       "liveness          114000.0       0.213553       0.190378   0.000   \n",
       "valence           114000.0       0.474068       0.259261   0.000   \n",
       "tempo             114000.0     122.147837      29.978197   0.000   \n",
       "time_signature    114000.0       3.904035       0.432621   0.000   \n",
       "\n",
       "                           25%            50%          75%          max  \n",
       "popularity            17.00000      35.000000      50.0000      100.000  \n",
       "duration_ms       174066.00000  212906.000000  261506.0000  5237295.000  \n",
       "danceability           0.45600       0.580000       0.6950        0.985  \n",
       "energy                 0.47200       0.685000       0.8540        1.000  \n",
       "key                    2.00000       5.000000       8.0000       11.000  \n",
       "loudness             -10.01300      -7.004000      -5.0030        4.532  \n",
       "mode                   0.00000       1.000000       1.0000        1.000  \n",
       "speechiness            0.03590       0.048900       0.0845        0.965  \n",
       "acousticness           0.01690       0.169000       0.5980        0.996  \n",
       "instrumentalness       0.00000       0.000042       0.0490        1.000  \n",
       "liveness               0.09800       0.132000       0.2730        1.000  \n",
       "valence                0.26000       0.464000       0.6830        0.995  \n",
       "tempo                 99.21875     122.017000     140.0710      243.372  \n",
       "time_signature         4.00000       4.000000       4.0000        5.000  "
      ]
     },
     "execution_count": 6,
     "metadata": {},
     "output_type": "execute_result"
    }
   ],
   "source": [
    "df.describe().T"
   ]
  },
  {
   "cell_type": "markdown",
   "metadata": {},
   "source": [
    "##### Summary statistics categorical"
   ]
  },
  {
   "cell_type": "code",
   "execution_count": 7,
   "metadata": {},
   "outputs": [
    {
     "data": {
      "text/html": [
       "<div>\n",
       "<style scoped>\n",
       "    .dataframe tbody tr th:only-of-type {\n",
       "        vertical-align: middle;\n",
       "    }\n",
       "\n",
       "    .dataframe tbody tr th {\n",
       "        vertical-align: top;\n",
       "    }\n",
       "\n",
       "    .dataframe thead th {\n",
       "        text-align: right;\n",
       "    }\n",
       "</style>\n",
       "<table border=\"1\" class=\"dataframe\">\n",
       "  <thead>\n",
       "    <tr style=\"text-align: right;\">\n",
       "      <th></th>\n",
       "      <th>count</th>\n",
       "      <th>unique</th>\n",
       "      <th>top</th>\n",
       "      <th>freq</th>\n",
       "    </tr>\n",
       "  </thead>\n",
       "  <tbody>\n",
       "    <tr>\n",
       "      <th>track_id</th>\n",
       "      <td>114000</td>\n",
       "      <td>89741</td>\n",
       "      <td>6S3JlDAGk3uu3NtZbPnuhS</td>\n",
       "      <td>9</td>\n",
       "    </tr>\n",
       "    <tr>\n",
       "      <th>artists</th>\n",
       "      <td>113999</td>\n",
       "      <td>31437</td>\n",
       "      <td>The Beatles</td>\n",
       "      <td>279</td>\n",
       "    </tr>\n",
       "    <tr>\n",
       "      <th>album_name</th>\n",
       "      <td>113999</td>\n",
       "      <td>46579</td>\n",
       "      <td>Alternative Christmas 2022</td>\n",
       "      <td>195</td>\n",
       "    </tr>\n",
       "    <tr>\n",
       "      <th>track_name</th>\n",
       "      <td>113999</td>\n",
       "      <td>73602</td>\n",
       "      <td>Run Rudolph Run</td>\n",
       "      <td>151</td>\n",
       "    </tr>\n",
       "    <tr>\n",
       "      <th>track_genre</th>\n",
       "      <td>114000</td>\n",
       "      <td>114</td>\n",
       "      <td>singer-songwriter</td>\n",
       "      <td>1000</td>\n",
       "    </tr>\n",
       "  </tbody>\n",
       "</table>\n",
       "</div>"
      ],
      "text/plain": [
       "              count unique                         top  freq\n",
       "track_id     114000  89741      6S3JlDAGk3uu3NtZbPnuhS     9\n",
       "artists      113999  31437                 The Beatles   279\n",
       "album_name   113999  46579  Alternative Christmas 2022   195\n",
       "track_name   113999  73602             Run Rudolph Run   151\n",
       "track_genre  114000    114           singer-songwriter  1000"
      ]
     },
     "execution_count": 7,
     "metadata": {},
     "output_type": "execute_result"
    }
   ],
   "source": [
    "df.describe(include='O').T"
   ]
  },
  {
   "cell_type": "markdown",
   "metadata": {},
   "source": [
    "##### Duplicates"
   ]
  },
  {
   "cell_type": "code",
   "execution_count": 8,
   "metadata": {},
   "outputs": [
    {
     "data": {
      "text/plain": [
       "450"
      ]
     },
     "execution_count": 8,
     "metadata": {},
     "output_type": "execute_result"
    }
   ],
   "source": [
    "df.duplicated().sum()"
   ]
  },
  {
   "cell_type": "markdown",
   "metadata": {},
   "source": [
    "### Data Summary"
   ]
  },
  {
   "cell_type": "markdown",
   "metadata": {},
   "source": [
    "The Spotify dataset consists of **114,000** records and **20** attributes, capturing both metadata and audio features for a wide variety of tracks. It includes **14** numerical attributes, **5** categorical attributes, and **1** boolean attribute (`explicit`). The dataset is nearly complete, with only minimal missing values in the `artists`, `album_name`, and `track_name` columns—each missing just one entry. There are 450 duplicate rows, which may need to be addressed during data cleaning. Overall, the dataset provides a vast number of observations which will aid in exploring patterns in music characteristics, artist trends, and genre-based insights.\n"
   ]
  },
  {
   "cell_type": "markdown",
   "metadata": {},
   "source": [
    "### Data Cleaning"
   ]
  },
  {
   "cell_type": "code",
   "execution_count": 9,
   "metadata": {},
   "outputs": [
    {
     "data": {
      "text/plain": [
       "Index(['track_id', 'artists', 'album_name', 'track_name', 'popularity',\n",
       "       'duration_ms', 'explicit', 'danceability', 'energy', 'key', 'loudness',\n",
       "       'mode', 'speechiness', 'acousticness', 'instrumentalness', 'liveness',\n",
       "       'valence', 'tempo', 'time_signature', 'track_genre'],\n",
       "      dtype='object')"
      ]
     },
     "execution_count": 9,
     "metadata": {},
     "output_type": "execute_result"
    }
   ],
   "source": [
    "#checking Columns\n",
    "df.columns"
   ]
  },
  {
   "cell_type": "markdown",
   "metadata": {},
   "source": [
    "The column names are okay, no need for standardization or removing empty spaces"
   ]
  },
  {
   "cell_type": "code",
   "execution_count": 10,
   "metadata": {
    "scrolled": false
   },
   "outputs": [
    {
     "name": "stdout",
     "output_type": "stream",
     "text": [
      "track_id:\n",
      "\n",
      "['5SuOikwiRyPMVoIQDJUgSV' '4qPNDBW1i3p13qLCt0Ki3A'\n",
      " '1iJBSr7s7jYXzM8EGcbK5b' ... '6x8ZfSoqDjuNa5SVP5QjvX'\n",
      " '2e6sXL2bYv4bSz6VTdnfLs' '2hETkH7cOfqmz3LqZDHZf5']\n",
      "**************\n",
      "artists:\n",
      "\n",
      "['Gen Hoshino' 'Ben Woodward' 'Ingrid Michaelson;ZAYN' ...\n",
      " 'Cuencos Tibetanos Sonidos Relajantes'\n",
      " 'Bryan & Katie Torwalt;Brock Human' 'Jesus Culture']\n",
      "**************\n",
      "album_name:\n",
      "\n",
      "['Comedy' 'Ghost (Acoustic)' 'To Begin Again' ...\n",
      " '#20 Sueños Vividos - Música Intrumental Suave 2018 para Dormir Bien y Relajarse Profundamente'\n",
      " 'Frecuencias Álmicas en 432hz (Solo Piano)' 'Revelation Songs']\n",
      "**************\n",
      "track_name:\n",
      "\n",
      "['Comedy' 'Ghost - Acoustic' 'To Begin Again' ... 'Water Into Light'\n",
      " 'Miss Perfumado' 'Barbincor']\n",
      "**************\n",
      "popularity:\n",
      "\n",
      "[ 73  55  57  71  82  58  74  80  56  69  52  62  54  68  67  75  63  70\n",
      "   0   1  46  61  60  51  66  64  65  44  45  50  59  49  53  47  43  42\n",
      "  20  22  35  19  24  18  23  40  38  41  30  37  39  48  36  34  26  32\n",
      "  33  21  31  28  29  27  25  16   3  12   7  10   9  11  17   8  15  87\n",
      "  83  86  93  76  78   4   2   5  85  81  84  72  79  77   6  13  14  89\n",
      "  96 100  98  88  92  90  91  99  97  95  94]\n",
      "**************\n",
      "duration_ms:\n",
      "\n",
      "[230666 149610 210826 ... 250629 312566 271466]\n",
      "**************\n",
      "explicit:\n",
      "\n",
      "[False  True]\n",
      "**************\n",
      "danceability:\n",
      "\n",
      "[0.676  0.42   0.438  ... 0.0865 0.0997 0.088 ]\n",
      "**************\n",
      "energy:\n",
      "\n",
      "[0.461   0.166   0.359   ... 0.00627 0.00895 0.0618 ]\n",
      "**************\n",
      "key:\n",
      "\n",
      "[ 1  0  2  6 11  8  4  7  3 10  5  9]\n",
      "**************\n",
      "loudness:\n",
      "\n",
      "[ -6.746 -17.235  -9.734 ... -27.146 -17.361 -16.393]\n",
      "**************\n",
      "mode:\n",
      "\n",
      "[0 1]\n",
      "**************\n",
      "speechiness:\n",
      "\n",
      "[0.143  0.0763 0.0557 ... 0.0225 0.763  0.0229]\n",
      "**************\n",
      "acousticness:\n",
      "\n",
      "[3.22e-02 9.24e-01 2.10e-01 ... 7.87e-05 6.64e-06 9.28e-06]\n",
      "**************\n",
      "instrumentalness:\n",
      "\n",
      "[1.01e-06 5.56e-06 0.00e+00 ... 9.79e-06 6.79e-05 7.20e-05]\n",
      "**************\n",
      "liveness:\n",
      "\n",
      "[0.358  0.101  0.117  ... 0.0268 0.0281 0.0118]\n",
      "**************\n",
      "valence:\n",
      "\n",
      "[0.715   0.267   0.12    ... 0.00271 0.00984 0.00312]\n",
      "**************\n",
      "tempo:\n",
      "\n",
      "[ 87.917  77.489  76.332 ...  85.239 132.378  79.198]\n",
      "**************\n",
      "time_signature:\n",
      "\n",
      "[4 3 1 5 0]\n",
      "**************\n",
      "track_genre:\n",
      "\n",
      "['acoustic' 'afrobeat' 'alt-rock' 'alternative' 'ambient' 'anime'\n",
      " 'black-metal' 'bluegrass' 'blues' 'brazil' 'breakbeat' 'british'\n",
      " 'cantopop' 'chicago-house' 'children' 'chill' 'classical' 'club' 'comedy'\n",
      " 'country' 'dance' 'dancehall' 'death-metal' 'deep-house' 'detroit-techno'\n",
      " 'disco' 'disney' 'drum-and-bass' 'dub' 'dubstep' 'edm' 'electro'\n",
      " 'electronic' 'emo' 'folk' 'forro' 'french' 'funk' 'garage' 'german'\n",
      " 'gospel' 'goth' 'grindcore' 'groove' 'grunge' 'guitar' 'happy'\n",
      " 'hard-rock' 'hardcore' 'hardstyle' 'heavy-metal' 'hip-hop' 'honky-tonk'\n",
      " 'house' 'idm' 'indian' 'indie-pop' 'indie' 'industrial' 'iranian'\n",
      " 'j-dance' 'j-idol' 'j-pop' 'j-rock' 'jazz' 'k-pop' 'kids' 'latin'\n",
      " 'latino' 'malay' 'mandopop' 'metal' 'metalcore' 'minimal-techno' 'mpb'\n",
      " 'new-age' 'opera' 'pagode' 'party' 'piano' 'pop-film' 'pop' 'power-pop'\n",
      " 'progressive-house' 'psych-rock' 'punk-rock' 'punk' 'r-n-b' 'reggae'\n",
      " 'reggaeton' 'rock-n-roll' 'rock' 'rockabilly' 'romance' 'sad' 'salsa'\n",
      " 'samba' 'sertanejo' 'show-tunes' 'singer-songwriter' 'ska' 'sleep'\n",
      " 'songwriter' 'soul' 'spanish' 'study' 'swedish' 'synth-pop' 'tango'\n",
      " 'techno' 'trance' 'trip-hop' 'turkish' 'world-music']\n",
      "**************\n"
     ]
    }
   ],
   "source": [
    "#printing unique values in each column\n",
    "for col in df.columns:\n",
    "    print(f\"{col}:\\n\")\n",
    "    print(df[col].unique())\n",
    "    print(\"**************\")"
   ]
  },
  {
   "cell_type": "code",
   "execution_count": 11,
   "metadata": {},
   "outputs": [
    {
     "data": {
      "text/plain": [
       "The Beatles                                                  279\n",
       "George Jones                                                 271\n",
       "Stevie Wonder                                                236\n",
       "Linkin Park                                                  224\n",
       "Ella Fitzgerald                                              222\n",
       "                                                            ... \n",
       "Macaco                                                         1\n",
       "Wisp                                                           1\n",
       "Vidyasagar;S. P. Balasubrahmanyam;S. Janaki                    1\n",
       "Scott Hamilton;Hans Backenroth;Kristian Leth;Jan Lundgren      1\n",
       "Gelena Velikanova;Квинтет п/у Виктора Миронова                 1\n",
       "Name: artists, Length: 31437, dtype: int64"
      ]
     },
     "execution_count": 11,
     "metadata": {},
     "output_type": "execute_result"
    }
   ],
   "source": [
    "df['artists'].value_counts()"
   ]
  },
  {
   "cell_type": "code",
   "execution_count": 12,
   "metadata": {},
   "outputs": [
    {
     "data": {
      "text/plain": [
       "Alternative Christmas 2022     195\n",
       "Feliz Cumpleaños con Perreo    184\n",
       "Metal                          143\n",
       "Halloween con perreito         123\n",
       "Halloween Party 2022           115\n",
       "                              ... \n",
       "Seu Jeito, Meu Jeito             1\n",
       "Totoro Talk (To Me)              1\n",
       "Bird EP                          1\n",
       "Hip Hop Sux!                     1\n",
       "Patek (Remix)                    1\n",
       "Name: album_name, Length: 46579, dtype: int64"
      ]
     },
     "execution_count": 12,
     "metadata": {},
     "output_type": "execute_result"
    }
   ],
   "source": [
    "df['album_name'].value_counts()"
   ]
  },
  {
   "cell_type": "code",
   "execution_count": 13,
   "metadata": {},
   "outputs": [
    {
     "data": {
      "text/plain": [
       "Run Rudolph Run                   151\n",
       "Halloween                          88\n",
       "Frosty The Snowman                 81\n",
       "Little Saint Nick - 1991 Remix     76\n",
       "Last Last                          75\n",
       "                                 ... \n",
       "Sonate, Op. 5: I. Adagio            1\n",
       "Сны моряка                          1\n",
       "Niebo jak sen                       1\n",
       "Down the Road                       1\n",
       "Ich bin voll                        1\n",
       "Name: track_name, Length: 73602, dtype: int64"
      ]
     },
     "execution_count": 13,
     "metadata": {},
     "output_type": "execute_result"
    }
   ],
   "source": [
    "df['track_name'].value_counts()"
   ]
  },
  {
   "cell_type": "code",
   "execution_count": 14,
   "metadata": {},
   "outputs": [],
   "source": [
    "# standardizing artists, album_name and track name\n",
    "df['artists'] = df['artists'].str.strip().str.lower()\n",
    "df['album_name'] = df['album_name'].str.strip().str.lower()\n",
    "df['track_name'] = df['track_name'].str.strip().str.lower()"
   ]
  },
  {
   "cell_type": "code",
   "execution_count": 15,
   "metadata": {},
   "outputs": [
    {
     "data": {
      "text/plain": [
       "alternative christmas 2022                       195\n",
       "feliz cumpleaños con perreo                      184\n",
       "metal                                            143\n",
       "halloween con perreito                           123\n",
       "halloween party 2022                             115\n",
       "                                                ... \n",
       "balance presents do not sleep (mixed version)      1\n",
       "cleanse fold and manipulate                        1\n",
       "kramgoa låtar 15                                   1\n",
       "искренний                                          1\n",
       "tera hua na mai kabhi vip                          1\n",
       "Name: album_name, Length: 46145, dtype: int64"
      ]
     },
     "execution_count": 15,
     "metadata": {},
     "output_type": "execute_result"
    }
   ],
   "source": [
    "df['album_name'].value_counts()"
   ]
  },
  {
   "cell_type": "code",
   "execution_count": 16,
   "metadata": {},
   "outputs": [
    {
     "data": {
      "text/plain": [
       "run rudolph run                                      151\n",
       "halloween                                             88\n",
       "frosty the snowman                                    84\n",
       "little saint nick - 1991 remix                        76\n",
       "last last                                             75\n",
       "                                                    ... \n",
       "sad bitch bad bitch                                    1\n",
       "fingerprint                                            1\n",
       "the me inside of me                                    1\n",
       "one more light - steve aoki chester forever remix      1\n",
       "i am you                                               1\n",
       "Name: track_name, Length: 72391, dtype: int64"
      ]
     },
     "execution_count": 16,
     "metadata": {},
     "output_type": "execute_result"
    }
   ],
   "source": [
    "df['track_name'].value_counts()"
   ]
  },
  {
   "cell_type": "code",
   "execution_count": 17,
   "metadata": {},
   "outputs": [
    {
     "data": {
      "text/plain": [
       "track_id            0.000000\n",
       "artists             0.000877\n",
       "album_name          0.000877\n",
       "track_name          0.000877\n",
       "popularity          0.000000\n",
       "duration_ms         0.000000\n",
       "explicit            0.000000\n",
       "danceability        0.000000\n",
       "energy              0.000000\n",
       "key                 0.000000\n",
       "loudness            0.000000\n",
       "mode                0.000000\n",
       "speechiness         0.000000\n",
       "acousticness        0.000000\n",
       "instrumentalness    0.000000\n",
       "liveness            0.000000\n",
       "valence             0.000000\n",
       "tempo               0.000000\n",
       "time_signature      0.000000\n",
       "track_genre         0.000000\n",
       "dtype: float64"
      ]
     },
     "execution_count": 17,
     "metadata": {},
     "output_type": "execute_result"
    }
   ],
   "source": [
    "#Checking null proportion\n",
    "df.isnull().mean()*100"
   ]
  },
  {
   "cell_type": "markdown",
   "metadata": {},
   "source": [
    "**Since less than 0.001% of the data is null, we can drop this row.**\n"
   ]
  },
  {
   "cell_type": "code",
   "execution_count": 18,
   "metadata": {},
   "outputs": [
    {
     "data": {
      "text/plain": [
       "track_id            0.0\n",
       "artists             0.0\n",
       "album_name          0.0\n",
       "track_name          0.0\n",
       "popularity          0.0\n",
       "duration_ms         0.0\n",
       "explicit            0.0\n",
       "danceability        0.0\n",
       "energy              0.0\n",
       "key                 0.0\n",
       "loudness            0.0\n",
       "mode                0.0\n",
       "speechiness         0.0\n",
       "acousticness        0.0\n",
       "instrumentalness    0.0\n",
       "liveness            0.0\n",
       "valence             0.0\n",
       "tempo               0.0\n",
       "time_signature      0.0\n",
       "track_genre         0.0\n",
       "dtype: float64"
      ]
     },
     "execution_count": 18,
     "metadata": {},
     "output_type": "execute_result"
    }
   ],
   "source": [
    "#Dropping null row\n",
    "df.dropna(subset=['artists','album_name','track_name'], inplace=True)\n",
    "df.isnull().mean()*100"
   ]
  },
  {
   "cell_type": "code",
   "execution_count": 19,
   "metadata": {},
   "outputs": [
    {
     "data": {
      "text/plain": [
       "450"
      ]
     },
     "execution_count": 19,
     "metadata": {},
     "output_type": "execute_result"
    }
   ],
   "source": [
    "##### Checking for and dropping duplicates\n",
    "df.duplicated().sum()"
   ]
  },
  {
   "cell_type": "code",
   "execution_count": 20,
   "metadata": {},
   "outputs": [
    {
     "data": {
      "text/plain": [
       "(113999, 20)"
      ]
     },
     "execution_count": 20,
     "metadata": {},
     "output_type": "execute_result"
    }
   ],
   "source": [
    "df.shape"
   ]
  },
  {
   "cell_type": "code",
   "execution_count": 21,
   "metadata": {},
   "outputs": [
    {
     "data": {
      "text/plain": [
       "0"
      ]
     },
     "execution_count": 21,
     "metadata": {},
     "output_type": "execute_result"
    }
   ],
   "source": [
    "df.drop_duplicates(inplace=True)\n",
    "df.duplicated().sum()"
   ]
  },
  {
   "cell_type": "code",
   "execution_count": 22,
   "metadata": {},
   "outputs": [
    {
     "data": {
      "text/plain": [
       "(113549, 20)"
      ]
     },
     "execution_count": 22,
     "metadata": {},
     "output_type": "execute_result"
    }
   ],
   "source": [
    "df.shape"
   ]
  },
  {
   "cell_type": "markdown",
   "metadata": {},
   "source": [
    "### Checking for Outliers"
   ]
  },
  {
   "cell_type": "code",
   "execution_count": 23,
   "metadata": {
    "scrolled": false
   },
   "outputs": [
    {
     "data": {
      "image/png": "[encoded data removed]",
      "text/plain": [
       "<Figure size 720x432 with 1 Axes>"
      ]
     },
     "metadata": {
      "needs_background": "light"
     },
     "output_type": "display_data"
    },
    {
     "data": {
      "image/png": "[encoded data removed]",
      "text/plain": [
       "<Figure size 720x432 with 1 Axes>"
      ]
     },
     "metadata": {
      "needs_background": "light"
     },
     "output_type": "display_data"
    },
    {
     "data": {
      "image/png": "[encoded data removed]",
      "text/plain": [
       "<Figure size 720x432 with 1 Axes>"
      ]
     },
     "metadata": {
      "needs_background": "light"
     },
     "output_type": "display_data"
    },
    {
     "data": {
      "image/png": "[encoded data removed]",
      "text/plain": [
       "<Figure size 720x432 with 1 Axes>"
      ]
     },
     "metadata": {
      "needs_background": "light"
     },
     "output_type": "display_data"
    },
    {
     "data": {
      "image/png": "[encoded data removed]",
      "text/plain": [
       "<Figure size 720x432 with 1 Axes>"
      ]
     },
     "metadata": {
      "needs_background": "light"
     },
     "output_type": "display_data"
    },
    {
     "data": {
      "image/png": "[encoded data removed]",
      "text/plain": [
       "<Figure size 720x432 with 1 Axes>"
      ]
     },
     "metadata": {
      "needs_background": "light"
     },
     "output_type": "display_data"
    },
    {
     "data": {
      "image/png": "[encoded data removed]",
      "text/plain": [
       "<Figure size 720x432 with 1 Axes>"
      ]
     },
     "metadata": {
      "needs_background": "light"
     },
     "output_type": "display_data"
    },
    {
     "data": {
      "image/png": "[encoded data removed]",
      "text/plain": [
       "<Figure size 720x432 with 1 Axes>"
      ]
     },
     "metadata": {
      "needs_background": "light"
     },
     "output_type": "display_data"
    },
    {
     "data": {
      "image/png": "[encoded data removed]",
      "text/plain": [
       "<Figure size 720x432 with 1 Axes>"
      ]
     },
     "metadata": {
      "needs_background": "light"
     },
     "output_type": "display_data"
    },
    {
     "data": {
      "image/png": "[encoded data removed]",
      "text/plain": [
       "<Figure size 720x432 with 1 Axes>"
      ]
     },
     "metadata": {
      "needs_background": "light"
     },
     "output_type": "display_data"
    },
    {
     "data": {
      "image/png": "[encoded data removed]",
      "text/plain": [
       "<Figure size 720x432 with 1 Axes>"
      ]
     },
     "metadata": {
      "needs_background": "light"
     },
     "output_type": "display_data"
    },
    {
     "data": {
      "image/png": "[encoded data removed]",
      "text/plain": [
       "<Figure size 720x432 with 1 Axes>"
      ]
     },
     "metadata": {
      "needs_background": "light"
     },
     "output_type": "display_data"
    },
    {
     "data": {
      "image/png": "[encoded data removed]",
      "text/plain": [
       "<Figure size 720x432 with 1 Axes>"
      ]
     },
     "metadata": {
      "needs_background": "light"
     },
     "output_type": "display_data"
    },
    {
     "data": {
      "image/png": "[encoded data removed]",
      "text/plain": [
       "<Figure size 720x432 with 1 Axes>"
      ]
     },
     "metadata": {
      "needs_background": "light"
     },
     "output_type": "display_data"
    }
   ],
   "source": [
    "#Creating a list of numeric columns and looping through it\n",
    "numeric_cols = df.select_dtypes(include='number')\n",
    "for col in numeric_cols:\n",
    "    plt.figure(figsize=(10,6))\n",
    "    sns.boxplot(x=df[col])\n",
    "    plt.title(f'Boxplot for {col}', fontweight='bold')\n",
    "    plt.xlabel(col)\n",
    "    plt.show"
   ]
  },
  {
   "cell_type": "markdown",
   "metadata": {},
   "source": [
    "#### Should We Remove Outliers?\n",
    "\n",
    "Since we are focusing on Exploratory Data Analysis (EDA) phase, the goal is to understand the data rather than clean it prematurely. Outliers often carry meaningful information that help us uncover patterns, special cases, or data quality issues. They may represent unique tracks, rare genres, unusually long or short durations, or highly rated rare niche.\n"
   ]
  },
  {
   "cell_type": "markdown",
   "metadata": {},
   "source": [
    "### Feature Engineering"
   ]
  },
  {
   "cell_type": "code",
   "execution_count": 24,
   "metadata": {},
   "outputs": [],
   "source": [
    "# Time is in milliseconds, let us create a new column minutes\n",
    "df['duration_min'] = (df['duration_ms']/60000).round(3)"
   ]
  },
  {
   "cell_type": "code",
   "execution_count": 25,
   "metadata": {},
   "outputs": [
    {
     "data": {
      "text/plain": [
       "array([3.844, 2.494, 3.514, ..., 8.222, 6.295, 7.707])"
      ]
     },
     "execution_count": 25,
     "metadata": {},
     "output_type": "execute_result"
    }
   ],
   "source": [
    "df['duration_min'].unique()"
   ]
  },
  {
   "cell_type": "code",
   "execution_count": 26,
   "metadata": {},
   "outputs": [
    {
     "data": {
      "text/plain": [
       "Medium    91098\n",
       "Long      16279\n",
       "Short      6172\n",
       "Name: track_length, dtype: int64"
      ]
     },
     "execution_count": 26,
     "metadata": {},
     "output_type": "execute_result"
    }
   ],
   "source": [
    "# classifying track length into Short, Long and Medium\n",
    "def classify_track(duration):\n",
    " if duration <2:\n",
    "    return 'Short'\n",
    " elif duration >5:\n",
    "    return 'Long'\n",
    " else:\n",
    "    return 'Medium'\n",
    "\n",
    "df['track_length'] = df['duration_min'].apply(classify_track)\n",
    "df['track_length'].value_counts()"
   ]
  },
  {
   "cell_type": "code",
   "execution_count": 27,
   "metadata": {},
   "outputs": [
    {
     "data": {
      "text/plain": [
       "Index(['track_id', 'artists', 'album_name', 'track_name', 'popularity',\n",
       "       'duration_ms', 'explicit', 'danceability', 'energy', 'key', 'loudness',\n",
       "       'mode', 'speechiness', 'acousticness', 'instrumentalness', 'liveness',\n",
       "       'valence', 'tempo', 'time_signature', 'track_genre', 'duration_min',\n",
       "       'track_length'],\n",
       "      dtype='object')"
      ]
     },
     "execution_count": 27,
     "metadata": {},
     "output_type": "execute_result"
    }
   ],
   "source": [
    "df.columns"
   ]
  },
  {
   "cell_type": "markdown",
   "metadata": {},
   "source": [
    "### Exporting Cleaned Data"
   ]
  },
  {
   "cell_type": "code",
   "execution_count": 28,
   "metadata": {},
   "outputs": [
    {
     "data": {
      "text/html": [
       "<div>\n",
       "<style scoped>\n",
       "    .dataframe tbody tr th:only-of-type {\n",
       "        vertical-align: middle;\n",
       "    }\n",
       "\n",
       "    .dataframe tbody tr th {\n",
       "        vertical-align: top;\n",
       "    }\n",
       "\n",
       "    .dataframe thead th {\n",
       "        text-align: right;\n",
       "    }\n",
       "</style>\n",
       "<table border=\"1\" class=\"dataframe\">\n",
       "  <thead>\n",
       "    <tr style=\"text-align: right;\">\n",
       "      <th></th>\n",
       "      <th>track_id</th>\n",
       "      <th>artists</th>\n",
       "      <th>album_name</th>\n",
       "      <th>track_name</th>\n",
       "      <th>popularity</th>\n",
       "      <th>duration_ms</th>\n",
       "      <th>explicit</th>\n",
       "      <th>danceability</th>\n",
       "      <th>energy</th>\n",
       "      <th>key</th>\n",
       "      <th>...</th>\n",
       "      <th>speechiness</th>\n",
       "      <th>acousticness</th>\n",
       "      <th>instrumentalness</th>\n",
       "      <th>liveness</th>\n",
       "      <th>valence</th>\n",
       "      <th>tempo</th>\n",
       "      <th>time_signature</th>\n",
       "      <th>track_genre</th>\n",
       "      <th>duration_min</th>\n",
       "      <th>track_length</th>\n",
       "    </tr>\n",
       "  </thead>\n",
       "  <tbody>\n",
       "    <tr>\n",
       "      <th>0</th>\n",
       "      <td>5SuOikwiRyPMVoIQDJUgSV</td>\n",
       "      <td>gen hoshino</td>\n",
       "      <td>comedy</td>\n",
       "      <td>comedy</td>\n",
       "      <td>73</td>\n",
       "      <td>230666</td>\n",
       "      <td>False</td>\n",
       "      <td>0.676</td>\n",
       "      <td>0.4610</td>\n",
       "      <td>1</td>\n",
       "      <td>...</td>\n",
       "      <td>0.1430</td>\n",
       "      <td>0.0322</td>\n",
       "      <td>0.000001</td>\n",
       "      <td>0.3580</td>\n",
       "      <td>0.715</td>\n",
       "      <td>87.917</td>\n",
       "      <td>4</td>\n",
       "      <td>acoustic</td>\n",
       "      <td>3.844</td>\n",
       "      <td>Medium</td>\n",
       "    </tr>\n",
       "    <tr>\n",
       "      <th>1</th>\n",
       "      <td>4qPNDBW1i3p13qLCt0Ki3A</td>\n",
       "      <td>ben woodward</td>\n",
       "      <td>ghost (acoustic)</td>\n",
       "      <td>ghost - acoustic</td>\n",
       "      <td>55</td>\n",
       "      <td>149610</td>\n",
       "      <td>False</td>\n",
       "      <td>0.420</td>\n",
       "      <td>0.1660</td>\n",
       "      <td>1</td>\n",
       "      <td>...</td>\n",
       "      <td>0.0763</td>\n",
       "      <td>0.9240</td>\n",
       "      <td>0.000006</td>\n",
       "      <td>0.1010</td>\n",
       "      <td>0.267</td>\n",
       "      <td>77.489</td>\n",
       "      <td>4</td>\n",
       "      <td>acoustic</td>\n",
       "      <td>2.494</td>\n",
       "      <td>Medium</td>\n",
       "    </tr>\n",
       "    <tr>\n",
       "      <th>2</th>\n",
       "      <td>1iJBSr7s7jYXzM8EGcbK5b</td>\n",
       "      <td>ingrid michaelson;zayn</td>\n",
       "      <td>to begin again</td>\n",
       "      <td>to begin again</td>\n",
       "      <td>57</td>\n",
       "      <td>210826</td>\n",
       "      <td>False</td>\n",
       "      <td>0.438</td>\n",
       "      <td>0.3590</td>\n",
       "      <td>0</td>\n",
       "      <td>...</td>\n",
       "      <td>0.0557</td>\n",
       "      <td>0.2100</td>\n",
       "      <td>0.000000</td>\n",
       "      <td>0.1170</td>\n",
       "      <td>0.120</td>\n",
       "      <td>76.332</td>\n",
       "      <td>4</td>\n",
       "      <td>acoustic</td>\n",
       "      <td>3.514</td>\n",
       "      <td>Medium</td>\n",
       "    </tr>\n",
       "    <tr>\n",
       "      <th>3</th>\n",
       "      <td>6lfxq3CG4xtTiEg7opyCyx</td>\n",
       "      <td>kina grannis</td>\n",
       "      <td>crazy rich asians (original motion picture sou...</td>\n",
       "      <td>can't help falling in love</td>\n",
       "      <td>71</td>\n",
       "      <td>201933</td>\n",
       "      <td>False</td>\n",
       "      <td>0.266</td>\n",
       "      <td>0.0596</td>\n",
       "      <td>0</td>\n",
       "      <td>...</td>\n",
       "      <td>0.0363</td>\n",
       "      <td>0.9050</td>\n",
       "      <td>0.000071</td>\n",
       "      <td>0.1320</td>\n",
       "      <td>0.143</td>\n",
       "      <td>181.740</td>\n",
       "      <td>3</td>\n",
       "      <td>acoustic</td>\n",
       "      <td>3.366</td>\n",
       "      <td>Medium</td>\n",
       "    </tr>\n",
       "    <tr>\n",
       "      <th>4</th>\n",
       "      <td>5vjLSffimiIP26QG5WcN2K</td>\n",
       "      <td>chord overstreet</td>\n",
       "      <td>hold on</td>\n",
       "      <td>hold on</td>\n",
       "      <td>82</td>\n",
       "      <td>198853</td>\n",
       "      <td>False</td>\n",
       "      <td>0.618</td>\n",
       "      <td>0.4430</td>\n",
       "      <td>2</td>\n",
       "      <td>...</td>\n",
       "      <td>0.0526</td>\n",
       "      <td>0.4690</td>\n",
       "      <td>0.000000</td>\n",
       "      <td>0.0829</td>\n",
       "      <td>0.167</td>\n",
       "      <td>119.949</td>\n",
       "      <td>4</td>\n",
       "      <td>acoustic</td>\n",
       "      <td>3.314</td>\n",
       "      <td>Medium</td>\n",
       "    </tr>\n",
       "  </tbody>\n",
       "</table>\n",
       "<p>5 rows × 22 columns</p>\n",
       "</div>"
      ],
      "text/plain": [
       "                 track_id                 artists  \\\n",
       "0  5SuOikwiRyPMVoIQDJUgSV             gen hoshino   \n",
       "1  4qPNDBW1i3p13qLCt0Ki3A            ben woodward   \n",
       "2  1iJBSr7s7jYXzM8EGcbK5b  ingrid michaelson;zayn   \n",
       "3  6lfxq3CG4xtTiEg7opyCyx            kina grannis   \n",
       "4  5vjLSffimiIP26QG5WcN2K        chord overstreet   \n",
       "\n",
       "                                          album_name  \\\n",
       "0                                             comedy   \n",
       "1                                   ghost (acoustic)   \n",
       "2                                     to begin again   \n",
       "3  crazy rich asians (original motion picture sou...   \n",
       "4                                            hold on   \n",
       "\n",
       "                   track_name  popularity  duration_ms  explicit  \\\n",
       "0                      comedy          73       230666     False   \n",
       "1            ghost - acoustic          55       149610     False   \n",
       "2              to begin again          57       210826     False   \n",
       "3  can't help falling in love          71       201933     False   \n",
       "4                     hold on          82       198853     False   \n",
       "\n",
       "   danceability  energy  key  ...  speechiness  acousticness  \\\n",
       "0         0.676  0.4610    1  ...       0.1430        0.0322   \n",
       "1         0.420  0.1660    1  ...       0.0763        0.9240   \n",
       "2         0.438  0.3590    0  ...       0.0557        0.2100   \n",
       "3         0.266  0.0596    0  ...       0.0363        0.9050   \n",
       "4         0.618  0.4430    2  ...       0.0526        0.4690   \n",
       "\n",
       "   instrumentalness  liveness  valence    tempo  time_signature  track_genre  \\\n",
       "0          0.000001    0.3580    0.715   87.917               4     acoustic   \n",
       "1          0.000006    0.1010    0.267   77.489               4     acoustic   \n",
       "2          0.000000    0.1170    0.120   76.332               4     acoustic   \n",
       "3          0.000071    0.1320    0.143  181.740               3     acoustic   \n",
       "4          0.000000    0.0829    0.167  119.949               4     acoustic   \n",
       "\n",
       "   duration_min track_length  \n",
       "0         3.844       Medium  \n",
       "1         2.494       Medium  \n",
       "2         3.514       Medium  \n",
       "3         3.366       Medium  \n",
       "4         3.314       Medium  \n",
       "\n",
       "[5 rows x 22 columns]"
      ]
     },
     "execution_count": 28,
     "metadata": {},
     "output_type": "execute_result"
    }
   ],
   "source": [
    "### Exporting the cleaned data for Tableau\n",
    "df.to_csv('data/cleaned_spotify.csv', index=False)\n",
    "data= pd.read_csv('data/cleaned_spotify.csv')\n",
    "data.head()"
   ]
  },
  {
   "cell_type": "markdown",
   "metadata": {},
   "source": [
    "We do Univariate, Bivariate and Multivariate"
   ]
  },
  {
   "cell_type": "markdown",
   "metadata": {},
   "source": [
    "### EXPLORATORY DATA ANALYSIS"
   ]
  },
  {
   "cell_type": "markdown",
   "metadata": {},
   "source": [
    "#### Univariate"
   ]
  },
  {
   "cell_type": "code",
   "execution_count": 33,
   "metadata": {},
   "outputs": [
    {
     "data": {
      "image/png": "[encoded data removed]",
      "text/plain": [
       "<Figure size 720x432 with 1 Axes>"
      ]
     },
     "metadata": {
      "needs_background": "light"
     },
     "output_type": "display_data"
    }
   ],
   "source": [
    "# Calculating statistics\n",
    "mean_val = data['popularity'].mean()\n",
    "median_val = data['popularity'].median()\n",
    "q1 = data['popularity'].quantile(0.25)\n",
    "q3 = data['popularity'].quantile(0.75)\n",
    "iqr = q3 - q1\n",
    "\n",
    "#plotting histogram\n",
    "plt.figure(figsize=(10,6))\n",
    "sns.histplot(data['popularity'], bins=10, kde=False)\n",
    "\n",
    "#adding vertical lines for mean, median and IQR\n",
    "plt.axvline(mean_val, color='blue', linestyle='--', linewidth=2, label=f'Mean: {mean_val:.2f}')\n",
    "plt.axvline(median_val, color='red', linestyle='-', linewidth=3, label=f'Median: {median_val:.2f}')\n",
    "plt.axvspan(q1,q3, color='yellow', alpha=0.3, label=f'IQR:{iqr:.2f}')\n",
    "\n",
    "# Titles and labels\n",
    "plt.title('Histogram of Popularity', fontweight='bold', color='red')\n",
    "plt.xlabel('Popularity')\n",
    "plt.ylabel('Frequency')\n",
    "plt.legend()\n",
    "plt.tight_layout()\n",
    "plt.show()"
   ]
  },
  {
   "cell_type": "code",
   "execution_count": 39,
   "metadata": {},
   "outputs": [],
   "source": [
    "cols_to_plot = ['tempo', 'valence', 'energy']"
   ]
  },
  {
   "cell_type": "code",
   "execution_count": 40,
   "metadata": {},
   "outputs": [
    {
     "data": {
      "image/png": "[encoded data removed]",
      "text/plain": [
       "<Figure size 720x432 with 1 Axes>"
      ]
     },
     "metadata": {
      "needs_background": "light"
     },
     "output_type": "display_data"
    },
    {
     "data": {
      "image/png": "[encoded data removed]",
      "text/plain": [
       "<Figure size 720x432 with 1 Axes>"
      ]
     },
     "metadata": {
      "needs_background": "light"
     },
     "output_type": "display_data"
    },
    {
     "data": {
      "image/png": "[encoded data removed]",
      "text/plain": [
       "<Figure size 720x432 with 1 Axes>"
      ]
     },
     "metadata": {
      "needs_background": "light"
     },
     "output_type": "display_data"
    }
   ],
   "source": [
    "#plotting each item\n",
    "for col in cols_to_plot:\n",
    "    #calculating statistics\n",
    "    col_mean = data[col].mean()\n",
    "    col_median = data[col].median()\n",
    "    q1 = data[col].quantile(0.25)\n",
    "    q3 = data[col].quantile(0.75)\n",
    "    iqr = q3-q1\n",
    "    \n",
    "    #plotting the histogram\n",
    "    plt.figure(figsize=(10,6))\n",
    "    sns.histplot(data[col], bins=20, kde=False, color='skyblue')\n",
    "    \n",
    "    #adding vertical lines for mean, median and IQR\n",
    "    plt.axvline(col_mean, color='blue', linestyle='--', linewidth='2', label=f'Mean: {col_mean:.2f}')\n",
    "    plt.axvline(col_median, color='red', linestyle ='-', linewidth='3', label=f'Median: {col_median:.2f}')\n",
    "    plt.axvspan(q1,q3, color='yellow', alpha=0.3, label=f'IQR: {iqr:.2f}')\n",
    "    \n",
    "    #Title and labels\n",
    "    plt.title(f'Histogram of {col.capitalize()}', fontweight='bold', color='darkblue')\n",
    "    plt.xlabel(col.capitalize())\n",
    "    plt.ylabel('Frequency')\n",
    "    plt.legend()\n",
    "    plt.tight_layout()\n",
    "    plt.show()   "
   ]
  },
  {
   "cell_type": "code",
   "execution_count": 41,
   "metadata": {},
   "outputs": [
    {
     "data": {
      "text/plain": [
       "Index(['track_id', 'artists', 'album_name', 'track_name', 'popularity',\n",
       "       'duration_ms', 'explicit', 'danceability', 'energy', 'key', 'loudness',\n",
       "       'mode', 'speechiness', 'acousticness', 'instrumentalness', 'liveness',\n",
       "       'valence', 'tempo', 'time_signature', 'track_genre', 'duration_min',\n",
       "       'track_length'],\n",
       "      dtype='object')"
      ]
     },
     "execution_count": 41,
     "metadata": {},
     "output_type": "execute_result"
    }
   ],
   "source": [
    "data.columns"
   ]
  },
  {
   "cell_type": "markdown",
   "metadata": {},
   "source": [
    "#### Barplot of Top 10 Genres by Average Valence"
   ]
  },
  {
   "cell_type": "code",
   "execution_count": 52,
   "metadata": {},
   "outputs": [
    {
     "data": {
      "image/png": "[encoded data removed]",
      "text/plain": [
       "<Figure size 864x432 with 1 Axes>"
      ]
     },
     "metadata": {
      "needs_background": "light"
     },
     "output_type": "display_data"
    }
   ],
   "source": [
    "#Creating a dataframe and series\n",
    "genre_stats = data.groupby('track_genre')[['valence', 'energy', 'danceability']].mean()\n",
    "top_valence = genre_stats['valence'].sort_values(ascending=False).head(10)\n",
    "\n",
    "#Plotting\n",
    "plt.figure(figsize=(12,6))\n",
    "sns.barplot(x=top_valence.values, y=top_valence.index, palette='coolwarm')\n",
    "\n",
    "#Title and Labels\n",
    "plt.title('Top 10 Genres by Average Valence', fontweight='bold')\n",
    "plt.xlabel('Average Valence')\n",
    "plt.ylabel('Genre')\n",
    "plt.tight_layout()\n",
    "plt.show()\n"
   ]
  },
  {
   "cell_type": "markdown",
   "metadata": {},
   "source": [
    "#### Barplot of Top 10 Genres by Average Energy"
   ]
  },
  {
   "cell_type": "code",
   "execution_count": 66,
   "metadata": {},
   "outputs": [
    {
     "data": {
      "image/png": "[encoded data removed]",
      "text/plain": [
       "<Figure size 720x432 with 1 Axes>"
      ]
     },
     "metadata": {
      "needs_background": "light"
     },
     "output_type": "display_data"
    }
   ],
   "source": [
    "#Creating a series\n",
    "top_energy = genre_stats['energy'].sort_values(ascending=False).head(10)\n",
    "\n",
    "#Plotting\n",
    "plt.figure(figsize=(10,6))\n",
    "sns.barplot(x=top_energy.values, y=top_energy.index, palette='RdBu')\n",
    "\n",
    "#Title and Labels\n",
    "plt.title('Top 10 Genres by Average Energy')\n",
    "plt.xlabel('Average Energy')\n",
    "plt.ylabel('Genre')\n",
    "plt.tight_layout()\n",
    "plt.show()"
   ]
  },
  {
   "cell_type": "markdown",
   "metadata": {},
   "source": [
    "#### Barplot of Top 10 Genres by Average Danceability"
   ]
  },
  {
   "cell_type": "code",
   "execution_count": 67,
   "metadata": {},
   "outputs": [
    {
     "data": {
      "image/png": "[encoded data removed]",
      "text/plain": [
       "<Figure size 720x432 with 1 Axes>"
      ]
     },
     "metadata": {
      "needs_background": "light"
     },
     "output_type": "display_data"
    }
   ],
   "source": [
    "#Creating a series of top 10 danceable\n",
    "top_dance = genre_stats['danceability'].sort_values(ascending=False).head(10)\n",
    "\n",
    "#plotting\n",
    "plt.figure(figsize=(10,6))\n",
    "sns.barplot(x=top_dance.values, y=top_dance.index, palette='Greens')\n",
    "\n",
    "#Title and Labels\n",
    "plt.title('Top 10 Genres by Average Danceability')\n",
    "plt.xlabel('Average danceability')\n",
    "plt.ylabel('Genre')\n",
    "plt.tight_layout()\n",
    "plt.show()"
   ]
  },
  {
   "cell_type": "code",
   "execution_count": 55,
   "metadata": {},
   "outputs": [],
   "source": [
    "# plt.figure(figsize=(12,10))\n",
    "# sns.heatmap(genre_stats.head(20), cmap='YlGnBu', annot=True, fmt=\".2f\")\n",
    "# plt.title('Average Audio Features per Genre', fontsize=14, fontweight='bold')\n",
    "# plt.tight_layout()\n",
    "# plt.show()\n"
   ]
  },
  {
   "cell_type": "code",
   "execution_count": 57,
   "metadata": {},
   "outputs": [
    {
     "data": {
      "text/plain": [
       "Index(['track_id', 'artists', 'album_name', 'track_name', 'popularity',\n",
       "       'duration_ms', 'explicit', 'danceability', 'energy', 'key', 'loudness',\n",
       "       'mode', 'speechiness', 'acousticness', 'instrumentalness', 'liveness',\n",
       "       'valence', 'tempo', 'time_signature', 'track_genre', 'duration_min',\n",
       "       'track_length'],\n",
       "      dtype='object')"
      ]
     },
     "execution_count": 57,
     "metadata": {},
     "output_type": "execute_result"
    }
   ],
   "source": [
    "data.columns"
   ]
  },
  {
   "cell_type": "code",
   "execution_count": 73,
   "metadata": {},
   "outputs": [
    {
     "data": {
      "image/png": "[encoded data removed]",
      "text/plain": [
       "<Figure size 720x432 with 1 Axes>"
      ]
     },
     "metadata": {
      "needs_background": "light"
     },
     "output_type": "display_data"
    }
   ],
   "source": [
    "#Creating a series of the top 10 popular artists\n",
    "top_artists = data['artists'].value_counts().head(10)\n",
    "\n",
    "#plotting\n",
    "plt.figure(figsize=(10,6))\n",
    "sns.barplot(x=top_artists.index, y=top_artists.values, palette='coolwarm')\n",
    "\n",
    "#title and labels\n",
    "plt.title('Top 10 Artists', color='blue', fontweight='bold')\n",
    "plt.xlabel('Artist')\n",
    "plt.xticks(rotation=45)\n",
    "plt.ylabel('Appearance')\n",
    "plt.tight_layout()\n",
    "plt.show()"
   ]
  },
  {
   "cell_type": "code",
   "execution_count": null,
   "metadata": {},
   "outputs": [],
   "source": []
  }
 ],
 "metadata": {
  "kernelspec": {
   "display_name": "Python 3",
   "language": "python",
   "name": "python3"
  },
  "language_info": {
   "codemirror_mode": {
    "name": "ipython",
    "version": 3
   },
   "file_extension": ".py",
   "mimetype": "text/x-python",
   "name": "python",
   "nbconvert_exporter": "python",
   "pygments_lexer": "ipython3",
   "version": "3.8.5"
  }
 },
 "nbformat": 4,
 "nbformat_minor": 4
}
